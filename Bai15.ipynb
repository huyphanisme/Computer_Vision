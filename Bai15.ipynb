{
 "cells": [
  {
   "cell_type": "code",
   "execution_count": 2,
   "metadata": {},
   "outputs": [
    {
     "name": "stdout",
     "output_type": "stream",
     "text": [
      "Kết quả:  [ 10. -11.]\n"
     ]
    }
   ],
   "source": [
    "from scipy import linalg\n",
    "import numpy as np\n",
    "\n",
    "# Định nghĩa hệ phương trình tuyến tính\n",
    "A = np.array([[2, 1],[5, 4]])\n",
    "b = np.array([9,6])\n",
    "\n",
    "# Giải hệ phương trình tuyến tính\n",
    "x = linalg.solve(A, b)\n",
    "print(\"Kết quả: \", x)"
   ]
  },
  {
   "cell_type": "code",
   "execution_count": 5,
   "metadata": {},
   "outputs": [
    {
     "name": "stdout",
     "output_type": "stream",
     "text": [
      "Tích phân f(x) từ 0 đến 1:  (2.666666666666667, 2.960594732333751e-14)\n"
     ]
    }
   ],
   "source": [
    "from scipy import integrate\n",
    "\n",
    "# Định nghĩa hàm f(x) = x^2\n",
    "def my_function(x):\n",
    "    return x**2\n",
    "\n",
    "# Tính tích phân của f(x) từ 0 đến 2\n",
    "integral = integrate.quad(my_function, 0, 2)\n",
    "print(\"Tích phân f(x) từ 0 đến 1: \", integral)"
   ]
  },
  {
   "cell_type": "code",
   "execution_count": 4,
   "metadata": {},
   "outputs": [
    {
     "name": "stdout",
     "output_type": "stream",
     "text": [
      "Giá trị riêng:  [3.73205081+0.j 0.26794919+0.j]\n",
      "Vector riêng:  [[ 0.5       -0.5      ]\n",
      " [ 0.8660254  0.8660254]]\n"
     ]
    }
   ],
   "source": [
    "from scipy import linalg\n",
    "import numpy as np\n",
    "\n",
    "# Tính giá trị riêng và vector riêng của một ma trận:\n",
    "A = np.array([[2,1], [3,2]])\n",
    "\n",
    "# Tính giá trị riêng và vector riêng của ma trận\n",
    "evals, evecs = linalg.eig(A)\n",
    "\n",
    "print(\"Giá trị riêng: \", evals)\n",
    "print(\"Vector riêng: \", evecs)"
   ]
  },
  {
   "cell_type": "code",
   "execution_count": null,
   "metadata": {},
   "outputs": [],
   "source": []
  }
 ],
 "metadata": {
  "kernelspec": {
   "display_name": "Python 3",
   "language": "python",
   "name": "python3"
  },
  "language_info": {
   "codemirror_mode": {
    "name": "ipython",
    "version": 3
   },
   "file_extension": ".py",
   "mimetype": "text/x-python",
   "name": "python",
   "nbconvert_exporter": "python",
   "pygments_lexer": "ipython3",
   "version": "3.12.5"
  }
 },
 "nbformat": 4,
 "nbformat_minor": 2
}
