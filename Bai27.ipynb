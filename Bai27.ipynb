{
 "cells": [
  {
   "cell_type": "code",
   "execution_count": 7,
   "metadata": {},
   "outputs": [],
   "source": [
    "import cv2\n",
    "import numpy as np"
   ]
  },
  {
   "cell_type": "code",
   "execution_count": 4,
   "metadata": {},
   "outputs": [],
   "source": [
    "# Tải ảnh đầu vào\n",
    "img = cv2.imread('./Images/face.png')\n",
    "\n",
    "# Hiển thị ảnh gốc\n",
    "cv2.imshow('Ảnh gốc', img)\n",
    "cv2.waitKey(0)\n",
    "cv2.destroyAllWindows()"
   ]
  },
  {
   "cell_type": "code",
   "execution_count": 11,
   "metadata": {},
   "outputs": [
    {
     "name": "stdout",
     "output_type": "stream",
     "text": [
      "(1, 1, 200, 7)\n",
      "[0.         1.         0.9999964  0.08431795 0.03673185 0.2728949\n",
      " 0.21403477]\n",
      "[0.08431795 0.03673185 0.2728949  0.21403477]\n",
      "63 36 204 213\n",
      "[0.40015897 0.02710085 0.579692   0.22908509]\n",
      "300 27 434 228\n",
      "[0.75269264 0.79041857 0.94096524 0.9887622 ]\n",
      "564 789 705 987\n",
      "[0.75594354 0.02493584 0.9462501  0.23191467]\n",
      "566 24 709 231\n",
      "[0.08840561 0.79843307 0.25066006 0.984727  ]\n",
      "66 797 187 983\n",
      "[0.7299378  0.27312317 0.9186108  0.4858645 ]\n",
      "547 272 688 485\n",
      "[0.74944067 0.542148   0.93323517 0.7356492 ]\n",
      "562 541 699 734\n",
      "[0.42464206 0.29030454 0.5999834  0.4685061 ]\n",
      "318 290 449 468\n",
      "[0.07715236 0.29420447 0.24884781 0.4731152 ]\n",
      "57 293 186 472\n",
      "[0.38338488 0.79235077 0.56548774 0.9834354 ]\n",
      "287 791 424 982\n",
      "[0.43101722 0.534801   0.6274341  0.73482895]\n",
      "323 534 470 734\n",
      "[0.07509262 0.5484283  0.24415904 0.722643  ]\n",
      "56 547 183 721\n"
     ]
    }
   ],
   "source": [
    "net = cv2.dnn.readNetFromCaffe(\n",
    "    './models/deploy.prototxt.txt',\n",
    "    './models/res10_300x300_ssd_iter_140000.caffemodel'\n",
    ")\n",
    "blob = cv2.dnn.blobFromImage(img, 1.0, (300, 300), (104, 177, 123), swapRB=False)\n",
    "\n",
    "# Đặt dữ liệu đầu vào cho mạng\n",
    "net.setInput(blob)\n",
    "\n",
    "# Chạy mạng để phát hiện khuôn mặt\n",
    "faces = net.forward()\n",
    "\n",
    "# Lấy kích thước của ảnh đầu vào\n",
    "h = img.shape[0]\n",
    "w = img.shape[1]\n",
    "\n",
    "# In thông tin\n",
    "print(faces.shape)\n",
    "print(faces[0, 0, 0, ])\n",
    "\n",
    "# Duyệt từng khuôn mặt đã được phát hiện\n",
    "for i in range(0, faces.shape[2]):\n",
    "    confidence = faces[0,0,i,2]\n",
    "    # Kiểm tra nếu mặt có độ tin cậy là 0.5\n",
    "    if confidence>0.5:\n",
    "        # Trích xuất tọa độ\n",
    "        print(faces[0, 0, i, 3:7])\n",
    "        startx = int(faces[0, 0, i, 3]*w)\n",
    "        starty = int(faces[0, 0, i, 4]*h)\n",
    "        endx = int(faces[0, 0, i, 5]*w)\n",
    "        endy = int(faces[0, 0, i, 6]*h)\n",
    "        print(startx, starty, endx, endy)\n",
    "        \n",
    "        # Vẽ hình chữ nhật xung quanh khuôn mặt đã phát hiện\n",
    "        cv2.rectangle(img, (startx, starty), (endx, endy), (0, 255, 0),)\n",
    "        \n",
    "        # Hiển thị độ tin cậy\n",
    "        text = 'Face: {:.2f}%'.format(confidence*100);\n",
    "        cv2.putText(img, text, (startx, starty-10), cv2.FONT_HERSHEY_PLAIN, 1, (255,255,255),)\n",
    "\n",
    "# Hiển thị ảnh gốc\n",
    "cv2.imshow('Kết quả', img)\n",
    "cv2.waitKey(0)\n",
    "cv2.destroyAllWindows()"
   ]
  }
 ],
 "metadata": {
  "kernelspec": {
   "display_name": "Python 3",
   "language": "python",
   "name": "python3"
  },
  "language_info": {
   "codemirror_mode": {
    "name": "ipython",
    "version": 3
   },
   "file_extension": ".py",
   "mimetype": "text/x-python",
   "name": "python",
   "nbconvert_exporter": "python",
   "pygments_lexer": "ipython3",
   "version": "3.12.5"
  }
 },
 "nbformat": 4,
 "nbformat_minor": 2
}
